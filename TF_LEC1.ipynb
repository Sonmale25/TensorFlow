{
  "nbformat": 4,
  "nbformat_minor": 0,
  "metadata": {
    "colab": {
      "provenance": []
    },
    "kernelspec": {
      "name": "python3",
      "display_name": "Python 3"
    },
    "language_info": {
      "name": "python"
    }
  },
  "cells": [
    {
      "cell_type": "code",
      "execution_count": 2,
      "metadata": {
        "id": "MEUSFEZ9z5XH"
      },
      "outputs": [],
      "source": [
        "import tensorflow as tf\n",
        "\n",
        "#Initializing tensors\n",
        "#tf.constant(value,shape,dtype) | shape=size of the tensor\n",
        "x = tf.constant(4, shape=(1,1), dtype=tf.float32)\n",
        "x = tf.constant([[1,2,3],[4,5,6]])\n",
        "x = tf.ones((3,3))\n",
        "x = tf.eye(3) #Identity matrix of shape 3x3"
      ]
    },
    {
      "cell_type": "code",
      "source": [
        "print(x)"
      ],
      "metadata": {
        "colab": {
          "base_uri": "https://localhost:8080/"
        },
        "id": "Pb6LRoKi1aAx",
        "outputId": "3690c5e6-e096-4885-d2ee-543db651acd1"
      },
      "execution_count": null,
      "outputs": [
        {
          "output_type": "stream",
          "name": "stdout",
          "text": [
            "tf.Tensor(\n",
            "[[1. 0. 0.]\n",
            " [0. 1. 0.]\n",
            " [0. 0. 1.]], shape=(3, 3), dtype=float32)\n"
          ]
        }
      ]
    },
    {
      "cell_type": "code",
      "source": [
        "#Methods to generate random values\n",
        "#uniform method generates random values from range(minval,maxval) , maxval is excluded.all values are equally likely.\n",
        "y=tf.random.uniform((2,3), minval=10,maxval=50,dtype=tf.int32)\n",
        "print(f\"y={y}\")\n",
        "\n",
        "#normal method generates random values based on the principle of Gaussian curve. Probability of values near the mean is high.Standard deviation tells how spread out will be the range from the mean.\n",
        "#smaller the stddev, narrower is the curve and vice versa.\n",
        "z=tf.random.normal(shape=(2,3), mean=5.0, stddev=10.0)\n",
        "print(f\"z={z}\")"
      ],
      "metadata": {
        "colab": {
          "base_uri": "https://localhost:8080/"
        },
        "id": "y8Jpsbhd41Ch",
        "outputId": "12a82d88-83dd-4aba-be8c-e9215f2f1380"
      },
      "execution_count": 12,
      "outputs": [
        {
          "output_type": "stream",
          "name": "stdout",
          "text": [
            "y=[[20 14 30]\n",
            " [17 42 44]]\n",
            "z=[[  9.657778    22.931452     3.729022  ]\n",
            " [ -0.37139416 -15.557394    15.600655  ]]\n"
          ]
        }
      ]
    },
    {
      "cell_type": "code",
      "source": [
        "#range() generates values from start=n to limit=n_final. Values will be from n to n_final-1. delta parameter determines the size of step.\n",
        "p=tf.range(dtype=tf.float32,start=5,limit=21,delta=2)\n",
        "print(f\"p={p}\")\n",
        "q=tf.range(start=5,limit=21,delta=1,dtype=tf.int32)\n",
        "print(f\"q={q}\")"
      ],
      "metadata": {
        "colab": {
          "base_uri": "https://localhost:8080/"
        },
        "id": "0YURbZnj_LEO",
        "outputId": "8c447af7-b3d9-40ec-f17d-d3c6292bfdd3"
      },
      "execution_count": 23,
      "outputs": [
        {
          "output_type": "stream",
          "name": "stdout",
          "text": [
            "p=[ 5.  7.  9. 11. 13. 15. 17. 19.]\n",
            "q=[ 5  6  7  8  9 10 11 12 13 14 15 16 17 18 19 20]\n"
          ]
        }
      ]
    },
    {
      "cell_type": "code",
      "source": [
        "#type casting\n",
        "print(tf.cast(q,tf.float32))\n"
      ],
      "metadata": {
        "colab": {
          "base_uri": "https://localhost:8080/"
        },
        "id": "h8ItRWQ9BKLb",
        "outputId": "8443a8ea-136e-4a21-e2e6-4e2e82eea5e7"
      },
      "execution_count": 31,
      "outputs": [
        {
          "output_type": "stream",
          "name": "stdout",
          "text": [
            "tf.Tensor([ 5.  6.  7.  8.  9. 10. 11. 12. 13. 14. 15. 16. 17. 18. 19. 20.], shape=(16,), dtype=float32)\n"
          ]
        }
      ]
    },
    {
      "cell_type": "code",
      "source": [
        "#Mathematical operations\n",
        "x=tf.constant([1,2,3])\n",
        "y=tf.constant([9,8,7])\n",
        "print(tf.add(x,y))\n",
        "      #OR\n",
        "print(f\"x+y={x+y}\")\n",
        "print(f\"x-y={x-y}\")\n",
        "print(f\"x*y={x*y}\")\n",
        "print(f\"x/y={x/y}\")\n",
        "print(f\"x^2={x**2}\")\n",
        "\n",
        "A=tf.random.uniform((3,2))\n",
        "B=tf.random.uniform((2,3))\n",
        "print(tf.matmul(A,B))\n",
        "print(A @ B)\n"
      ],
      "metadata": {
        "colab": {
          "base_uri": "https://localhost:8080/"
        },
        "id": "wHJpvdH_EgsG",
        "outputId": "82dbeca9-f90e-4781-8430-b2ac21178207"
      },
      "execution_count": 32,
      "outputs": [
        {
          "output_type": "stream",
          "name": "stdout",
          "text": [
            "tf.Tensor([10 10 10], shape=(3,), dtype=int32)\n",
            "x+y=[10 10 10]\n",
            "x-y=[-8 -6 -4]\n",
            "x*y=[ 9 16 21]\n",
            "x/y=[0.11111111 0.25       0.42857143]\n",
            "x^2=[1 4 9]\n",
            "tf.Tensor(\n",
            "[[1.0070174  1.0615395  0.4164695 ]\n",
            " [0.86202    0.8909278  0.30765104]\n",
            " [0.78697765 0.8412951  0.35766828]], shape=(3, 3), dtype=float32)\n",
            "tf.Tensor(\n",
            "[[1.0070174  1.0615395  0.4164695 ]\n",
            " [0.86202    0.8909278  0.30765104]\n",
            " [0.78697765 0.8412951  0.35766828]], shape=(3, 3), dtype=float32)\n"
          ]
        }
      ]
    },
    {
      "cell_type": "code",
      "source": [
        "#indexing\n",
        "x=tf.constant([0,1,1,2,3,1,2,3])\n",
        "print(x[:])\n",
        "print(x[1:])\n",
        "print(x[1:3])\n",
        "print(x[::3])\n",
        "print(x[::-1])\n",
        "\n",
        "A=tf.random.uniform((3,3),minval=0,maxval=10,dtype=tf.int32)\n",
        "print(A)\n"
      ],
      "metadata": {
        "colab": {
          "base_uri": "https://localhost:8080/"
        },
        "id": "i1RdKpOnJOkQ",
        "outputId": "0ca41989-80ca-431d-fa3c-5af1bd284ad4"
      },
      "execution_count": 48,
      "outputs": [
        {
          "output_type": "stream",
          "name": "stdout",
          "text": [
            "tf.Tensor([0 1 1 2 3 1 2 3], shape=(8,), dtype=int32)\n",
            "tf.Tensor([1 1 2 3 1 2 3], shape=(7,), dtype=int32)\n",
            "tf.Tensor([1 1], shape=(2,), dtype=int32)\n",
            "tf.Tensor([0 2 2], shape=(3,), dtype=int32)\n",
            "tf.Tensor([3 2 1 3 2 1 1 0], shape=(8,), dtype=int32)\n",
            "tf.Tensor(\n",
            "[[8 2 6]\n",
            " [3 5 7]\n",
            " [2 0 8]], shape=(3, 3), dtype=int32)\n",
            "tf.Tensor([8 2 6], shape=(3,), dtype=int32)\n"
          ]
        }
      ]
    },
    {
      "cell_type": "code",
      "source": [
        "print(A[0])\n",
        "print(A[0:2])\n",
        "print(A[0:2])"
      ],
      "metadata": {
        "colab": {
          "base_uri": "https://localhost:8080/"
        },
        "id": "a6x8I0dIKfdC",
        "outputId": "4939ab6d-e807-4064-b0bb-bf9bab76c6a8"
      },
      "execution_count": 51,
      "outputs": [
        {
          "output_type": "stream",
          "name": "stdout",
          "text": [
            "tf.Tensor([8 2 6], shape=(3,), dtype=int32)\n",
            "tf.Tensor(\n",
            "[[8 2 6]\n",
            " [3 5 7]], shape=(2, 3), dtype=int32)\n"
          ]
        }
      ]
    },
    {
      "cell_type": "code",
      "source": [
        "#reshaping\n",
        "x=tf.range(9)\n",
        "print(x)\n",
        "x=tf.reshape(x,(3,3))\n",
        "print(x)\n",
        "\n",
        "print(tf.transpose(x))"
      ],
      "metadata": {
        "colab": {
          "base_uri": "https://localhost:8080/"
        },
        "id": "3IWy4Fp3K-BX",
        "outputId": "9d32cc5b-98da-44a8-94d3-1a316d77769b"
      },
      "execution_count": 53,
      "outputs": [
        {
          "output_type": "stream",
          "name": "stdout",
          "text": [
            "tf.Tensor([0 1 2 3 4 5 6 7 8], shape=(9,), dtype=int32)\n",
            "tf.Tensor(\n",
            "[[0 1 2]\n",
            " [3 4 5]\n",
            " [6 7 8]], shape=(3, 3), dtype=int32)\n",
            "tf.Tensor(\n",
            "[[0 3 6]\n",
            " [1 4 7]\n",
            " [2 5 8]], shape=(3, 3), dtype=int32)\n"
          ]
        }
      ]
    }
  ]
}